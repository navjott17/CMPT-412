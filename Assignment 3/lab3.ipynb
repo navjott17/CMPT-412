{
  "nbformat": 4,
  "nbformat_minor": 0,
  "metadata": {
    "accelerator": "GPU",
    "colab": {
      "name": "lab3.ipynb",
      "provenance": [],
      "collapsed_sections": []
    },
    "kernelspec": {
      "display_name": "Python 3",
      "name": "python3"
    }
  },
  "cells": [
    {
      "cell_type": "markdown",
      "metadata": {
        "id": "QHnVupBBn9eR"
      },
      "source": [
        "\n",
        "# Assignment 3\n",
        "\n",
        "This is a template notebook for Assignment 3.\n"
      ]
    },
    {
      "cell_type": "markdown",
      "metadata": {
        "id": "vM54r6jlKTII"
      },
      "source": [
        "## Install dependencies and initialization"
      ]
    },
    {
      "cell_type": "code",
      "metadata": {
        "id": "9_FzH13EjseR"
      },
      "source": [
        "# install dependencies: \n",
        "!pip install pyyaml==5.1 pycocotools>=2.0.1\n",
        "# !pip install detectron2 -f https://dl.fbaipublicfiles.com/detectron2/wheels/cu101/torch1.6/index.html\n",
        "!pip install detectron2 -f https://dl.fbaipublicfiles.com/detectron2/wheels/cu111/torch1.9/index.html"
      ],
      "execution_count": null,
      "outputs": []
    },
    {
      "cell_type": "code",
      "metadata": {
        "id": "dqAUb5Y12qXt"
      },
      "source": [
        "!pwd # shows current directory\n",
        "!ls  # shows all files in this directory\n",
        "!nvidia-smi # shows the specs and the current status of the allocated GPU"
      ],
      "execution_count": null,
      "outputs": []
    },
    {
      "cell_type": "code",
      "metadata": {
        "id": "b-i4hmGYk1dL"
      },
      "source": [
        "# import some common libraries\n",
        "from google.colab.patches import cv2_imshow\n",
        "from sklearn.metrics import jaccard_score\n",
        "from PIL import Image, ImageDraw\n",
        "from tqdm.notebook import tqdm\n",
        "import pandas as pd\n",
        "import numpy as np\n",
        "import datetime\n",
        "import random\n",
        "import json\n",
        "import cv2\n",
        "import csv\n",
        "import os\n",
        "\n",
        "# import some common pytorch utilities\n",
        "from torch.utils.data import Dataset, DataLoader\n",
        "import torchvision.transforms as transforms\n",
        "from torch.autograd import Variable\n",
        "import torch.nn.functional as F\n",
        "import torch.nn as nn\n",
        "import torch\n",
        "\n",
        "# import some common detectron2 utilities\n",
        "import detectron2\n",
        "from detectron2 import model_zoo\n",
        "from detectron2.config import get_cfg\n",
        "from detectron2.structures import BoxMode\n",
        "from detectron2.engine import DefaultTrainer\n",
        "from detectron2.engine import DefaultPredictor\n",
        "from detectron2.utils.logger import setup_logger\n",
        "from detectron2.utils.visualizer import ColorMode\n",
        "from detectron2.utils.visualizer import Visualizer\n",
        "from detectron2.data import build_detection_test_loader\n",
        "from detectron2.data import MetadataCatalog, DatasetCatalog\n",
        "from detectron2.evaluation import COCOEvaluator, inference_on_dataset\n",
        "setup_logger()"
      ],
      "execution_count": null,
      "outputs": []
    },
    {
      "cell_type": "code",
      "metadata": {
        "id": "tUA_j6AF1L5Y"
      },
      "source": [
        "# Make sure that GPU is available for your notebook. \n",
        "# Otherwise, you need to update the settungs in Runtime -> Change runtime type -> Hardware accelerator\n",
        "torch.cuda.is_available()"
      ],
      "execution_count": null,
      "outputs": []
    },
    {
      "cell_type": "code",
      "metadata": {
        "id": "ZyAvNCJMmvFF"
      },
      "source": [
        "# You need to mount your google drive in order to load the data:\n",
        "from google.colab import drive\n",
        "drive.mount('/content/drive')\n",
        "# Put all the corresponding data files in a data folder and put the data folder in a same directory with this notebook.\n",
        "# Also create an output directory for your files such as the trained models and the output images."
      ],
      "execution_count": null,
      "outputs": []
    },
    {
      "cell_type": "code",
      "metadata": {
        "id": "A_Di_fgL4HSv"
      },
      "source": [
        "# Define the location of current directory, which should contain data/train, data/test, and data/train.json.\n",
        "# TODO: approx 1 line\n",
        "BASE_DIR = '/content/drive/My Drive/CMPT_CV_lab3'\n",
        "OUTPUT_DIR = '{}/output'.format(BASE_DIR)\n",
        "os.makedirs(OUTPUT_DIR, exist_ok=True)"
      ],
      "execution_count": null,
      "outputs": []
    },
    {
      "cell_type": "markdown",
      "metadata": {
        "id": "Vk4gID50K03a"
      },
      "source": [
        "## Part 1: Object Detection"
      ]
    },
    {
      "cell_type": "markdown",
      "metadata": {
        "id": "xRV-KFJzlur4"
      },
      "source": [
        "### Data Loader"
      ]
    },
    {
      "cell_type": "code",
      "metadata": {
        "id": "dq9GY37ml1kr"
      },
      "source": [
        "from glob import glob\n",
        "'''\n",
        "# This function should return a list of data samples in which each sample is a dictionary. \n",
        "# Make sure to select the correct bbox_mode for the data\n",
        "# For the test data, you only have access to the images, therefore, the annotations should be empty.\n",
        "# Other values could be obtained from the image files.\n",
        "# TODO: approx 35 lines\n",
        "'''\n",
        "\n",
        "def get_train_test_data(set_name):\n",
        "  data_dirs = '{}/data/'.format(BASE_DIR)\n",
        "  train_dirs = '{}/data/train/'.format(BASE_DIR)\n",
        "  test_dirs = '{}/data/test/*'.format(BASE_DIR)\n",
        "\n",
        "  json_file = os.path.join(data_dirs, \"train.json\")\n",
        "  with open(json_file) as f:\n",
        "    imgs_anns = json.load(f)\n",
        "\n",
        "  train_data = {}\n",
        "  test_data = []\n",
        "\n",
        "  for idx, v in enumerate(imgs_anns):\n",
        "    record = {}\n",
        "    filename = os.path.join(train_dirs, v[\"file_name\"])\n",
        "    obj1 = {\n",
        "        \"bbox\": v[\"bbox\"],\n",
        "        \"bbox_mode\": BoxMode.XYWH_ABS,\n",
        "        \"segmentation\": v[\"segmentation\"],\n",
        "        \"category_id\": 0,\n",
        "        \"iscrowd\": v[\"iscrowd\"]\n",
        "    }\n",
        "\n",
        "    if not filename in train_data:\n",
        "      height, width = cv2.imread(filename).shape[:2]\n",
        "      record[\"file_name\"] = filename\n",
        "      record[\"image_id\"] = idx\n",
        "      record[\"height\"] = height\n",
        "      record[\"width\"] = width\n",
        "      record[\"annotations\"] = []\n",
        "      train_data[filename] = record\n",
        "    train_data[filename][\"annotations\"].append(obj1)\n",
        "\n",
        "  for filename in glob(test_dirs):\n",
        "    record = {}\n",
        "    height, width = cv2.imread(filename).shape[:2]\n",
        "    record[\"annotations\"] = []\n",
        "    record[\"file_name\"] = filename\n",
        "    record[\"height\"] = height\n",
        "    record[\"width\"] = width\n",
        "    test_data.append(record)\n",
        "\n",
        "  train_data = np.array(list(train_data.values()))\n",
        "\n",
        "  return train_data, test_data\n",
        "\n",
        "train_dataset, test_dataset = get_train_test_data(\"train\")\n",
        "\n",
        "def get_detection_data(set_name):\n",
        "  if set_name == \"train\":\n",
        "    return train_dataset.tolist()\n",
        "  elif set_name == \"test\":\n",
        "    return test_dataset"
      ],
      "execution_count": null,
      "outputs": []
    },
    {
      "cell_type": "code",
      "metadata": {
        "id": "xCH-2mWxDVVu"
      },
      "source": [
        "\n",
        "'''\n",
        "# Remember to add your dataset to DatasetCatalog and MetadataCatalog\n",
        "# Consdier \"data_detection_train\" and \"data_detection_test\" for registration\n",
        "# You can also add an optional \"data_detection_val\" for your validation by spliting the training data\n",
        "# TODO: approx 5 lines\n",
        "'''\n",
        "for d in [\"train\", \"test\"]:\n",
        "  DatasetCatalog.register(\"plane_\" + d, lambda d = d: get_detection_data(d))\n",
        "  MetadataCatalog.get(\"plane_\" + d).set(thing_classes=[\"plane\"])\n",
        "plane_metadata = MetadataCatalog.get(\"plane_train\")\n",
        "\n"
      ],
      "execution_count": null,
      "outputs": []
    },
    {
      "cell_type": "code",
      "metadata": {
        "id": "qNSdXCL_DVAz"
      },
      "source": [
        "'''\n",
        "# Visualize some samples using Visualizer to make sure that the function works correctly\n",
        "# TODO: approx 5 lines\n",
        "'''\n",
        "\n",
        "dataset_dicts = get_detection_data(\"train\")\n",
        "for data in random.sample(dataset_dicts, 3):\n",
        "    img = cv2.imread(data[\"file_name\"])\n",
        "    visualizer = Visualizer(img[:, :, ::-1], metadata=plane_metadata, scale=0.5)\n",
        "    out = visualizer.draw_dataset_dict(data)\n",
        "    cv2_imshow(out.get_image()[:, :, ::-1])"
      ],
      "execution_count": null,
      "outputs": []
    },
    {
      "cell_type": "markdown",
      "metadata": {
        "id": "uM1thbN-ntjI"
      },
      "source": [
        "### Set Configs"
      ]
    },
    {
      "cell_type": "code",
      "metadata": {
        "id": "HUjkwRsOn1O0"
      },
      "source": [
        "'''\n",
        "# Set the configs for the detection part in here.\n",
        "# TODO: approx 15 lines\n",
        "'''\n",
        "cfg = get_cfg()\n",
        "cfg.OUTPUT_DIR = \"{}/output/\".format(BASE_DIR)\n",
        "cfg.merge_from_file(model_zoo.get_config_file(\"COCO-Detection/faster_rcnn_R_101_FPN_3x.yaml\"))\n",
        "cfg.DATASETS.TRAIN = (\"plane_train\",)\n",
        "cfg.DATASETS.TEST = ()\n",
        "cfg.DATALOADER.NUM_WORKERS = 2\n",
        "cfg.SOLVER.IMS_PER_BATCH = 2\n",
        "cfg.SOLVER.BASE_LR = 0.00025\n",
        "cfg.SOLVER.MAX_ITER = 850\n",
        "cfg.SOLVER.STEPS = []        \n",
        "cfg.MODEL.ROI_HEADS.BATCH_SIZE_PER_IMAGE = 512  \n",
        "cfg.MODEL.ROI_HEADS.NUM_CLASSES = 1 \n",
        "\n"
      ],
      "execution_count": null,
      "outputs": []
    },
    {
      "cell_type": "markdown",
      "metadata": {
        "id": "P4rql8pNokE4"
      },
      "source": [
        "### Training"
      ]
    },
    {
      "cell_type": "code",
      "metadata": {
        "id": "7d3KxiHO_0gb"
      },
      "source": [
        "'''\n",
        "# Create a DefaultTrainer using the above config and train the model\n",
        "# TODO: approx 5 lines\n",
        "'''\n",
        "\n",
        "os.makedirs(cfg.OUTPUT_DIR, exist_ok = True)\n",
        "trainer = DefaultTrainer(cfg)\n",
        "trainer.resume_or_load(resume = False)\n",
        "trainer.train()\n"
      ],
      "execution_count": null,
      "outputs": []
    },
    {
      "cell_type": "code",
      "metadata": {
        "id": "aphE5OGnE24o"
      },
      "source": [
        "#for graphs\n",
        "# %load_ext tensorboard\n",
        "# %tensorboard --logdir drive/My\\Drive/CMPT_CV_lab3/output"
      ],
      "execution_count": null,
      "outputs": []
    },
    {
      "cell_type": "markdown",
      "metadata": {
        "id": "fRVEiICco3SV"
      },
      "source": [
        "### Evaluation and Visualization"
      ]
    },
    {
      "cell_type": "code",
      "metadata": {
        "id": "VYCIXdMZvDYL"
      },
      "source": [
        "'''\n",
        "# After training the model, you need to update cfg.MODEL.WEIGHTS\n",
        "# Define a DefaultPredictor\n",
        "'''\n",
        "cfg.MODEL.WEIGHTS = os.path.join(cfg.OUTPUT_DIR, \"model_final.pth\")  # path to the model we just trained\n",
        "cfg.MODEL.ROI_HEADS.SCORE_THRESH_TEST = 0.6   # set a custom testing threshold\n",
        "predictor = DefaultPredictor(cfg)"
      ],
      "execution_count": null,
      "outputs": []
    },
    {
      "cell_type": "code",
      "metadata": {
        "id": "_hRCf86KGi5v"
      },
      "source": [
        "'''\n",
        "# Visualize the output for 3 random test samples\n",
        "# TODO: approx 10 lines\n",
        "'''\n",
        "\n",
        "dataset_dicts = get_detection_data(\"test\")\n",
        "for d in random.sample(dataset_dicts, 3):    \n",
        "    im = cv2.imread(d[\"file_name\"])\n",
        "    outputs = predictor(im)  # format is documented at https://detectron2.readthedocs.io/tutorials/models.html#model-output-format\n",
        "    v = Visualizer(im[:, :, ::-1],\n",
        "                   metadata=plane_metadata, \n",
        "                   scale=0.5, \n",
        "                   instance_mode=ColorMode.IMAGE_BW   # remove the colors of unsegmented pixels. This option is only available for segmentation models\n",
        "    )\n",
        "    out = v.draw_instance_predictions(outputs[\"instances\"].to(\"cpu\"))\n",
        "    cv2_imshow(out.get_image()[:, :, ::-1])"
      ],
      "execution_count": null,
      "outputs": []
    },
    {
      "cell_type": "code",
      "metadata": {
        "id": "D0wRdlcKo6BD"
      },
      "source": [
        "'''\n",
        "# Use COCOEvaluator and build_detection_train_loader\n",
        "# You can save the output predictions using inference_on_dataset\n",
        "# TODO: approx 5 lines\n",
        "'''\n",
        "evaluator = COCOEvaluator(\"plane_train\", output_dir=cfg.OUTPUT_DIR)\n",
        "train_loader = build_detection_test_loader(cfg, \"plane_train\")\n",
        "print(inference_on_dataset(predictor.model, train_loader, evaluator))\n"
      ],
      "execution_count": null,
      "outputs": []
    },
    {
      "cell_type": "markdown",
      "metadata": {
        "id": "EwYvbwcjpKBk"
      },
      "source": [
        "### Improvements\n",
        "\n",
        "For this part, you can bring any improvement which you have by adding new input parameters to the previous functions or defining new functions and variables."
      ]
    },
    {
      "cell_type": "code",
      "metadata": {
        "id": "xdR6KbCZpOlk"
      },
      "source": [
        "'''\n",
        "# Bring any changes and updates regarding the improvement in here\n",
        "'''\n"
      ],
      "execution_count": null,
      "outputs": []
    },
    {
      "cell_type": "markdown",
      "metadata": {
        "id": "98_M4TooqSs2"
      },
      "source": [
        "## Part 2: Semantic Segmentation"
      ]
    },
    {
      "cell_type": "markdown",
      "metadata": {
        "id": "ByAEsMtIPLrO"
      },
      "source": [
        "### Data Loader"
      ]
    },
    {
      "cell_type": "code",
      "metadata": {
        "id": "peQ95zLuIpkk"
      },
      "source": [
        "'''\n",
        "# Write a function that returns the cropped image and corresponding mask regarding the target bounding box\n",
        "# idx is the index of the target bbox in the data\n",
        "# high-resolution image could be passed or could be load from data['file_name']\n",
        "# You can use the mask attribute of detectron2.utils.visualizer.GenericMask \n",
        "#     to convert the segmentation annotations to binary masks\n",
        "# TODO: approx 10 lines\n",
        "'''\n",
        "train_set = get_detection_data(\"train\")\n",
        "data_set = []\n",
        "def get_dataset(data):\n",
        "  for idx in data:\n",
        "    filename = idx['file_name']\n",
        "    image = cv2.imread(filename)\n",
        "    annotations = idx['annotations']\n",
        "    temp_data = {}\n",
        "    temp_data['file_name'] = filename\n",
        "    temp1_data = {}\n",
        "    temp1_data['anns'] = []\n",
        "    for v in annotations:   \n",
        "      bbox = v['bbox']\n",
        "      x_1, y_1, x_2, y_2 = bbox[0], bbox[1], bbox[0]+bbox[2], bbox[1]+bbox[3]\n",
        "      x_1, y_1, x_2, y_2 = int(x_1), int(y_1), int(x_2), int(y_2)\n",
        "      \n",
        "      img = image[y_1:y_2, x_1:x_2]\n",
        "      img = cv2.resize(img, (128, 128), interpolation = cv2.INTER_AREA)\n",
        "\n",
        "      msk = detectron2.utils.visualizer.GenericMask(v['segmentation'], idx['height'], idx['width']).mask\n",
        "      mask = msk[y_1:y_2, x_1:x_2]\n",
        "      mask = cv2.resize(mask, (128, 128), interpolation = cv2.INTER_AREA)\n",
        "      records = {'img': img, 'mask': mask}\n",
        "       \n",
        "      temp1_data['anns'].append(records)\n",
        "\n",
        "    temp_data['annotations'] = temp1_data['anns']\n",
        "    data_set.append(temp_data)\n",
        "  return data_set\n",
        "\n",
        "data_set = get_dataset(train_set)"
      ],
      "execution_count": null,
      "outputs": []
    },
    {
      "cell_type": "code",
      "metadata": {
        "id": "dmGNLWxNotbO"
      },
      "source": [
        "def get_instance_sample(data, idx, img=None): \n",
        "  for i in range(len(data_set)): \n",
        "    if data_set[i]['file_name'] == data['file_name']:\n",
        "      target_value = data_set[i]['annotations'][idx]\n",
        "      obj_img = target_value['img']  \n",
        "      obj_mask = target_value['mask']\n",
        "      obj_img = np.array(obj_img)\n",
        "      obj_mask = np.array(obj_mask)\n",
        "      return obj_img, obj_mask"
      ],
      "execution_count": null,
      "outputs": []
    },
    {
      "cell_type": "code",
      "metadata": {
        "id": "sxrc9X_pjzj-"
      },
      "source": [
        "\n",
        "'''\n",
        "# We have provided a template data loader for your segmentation training\n",
        "# You need to complete the __getitem__() function before running the code\n",
        "# You may also need to add data augmentation or normalization in here\n",
        "'''\n",
        "\n",
        "class PlaneDataset(Dataset):\n",
        "  def __init__(self, set_name, data_list):\n",
        "      self.transforms = transforms.Compose([\n",
        "          transforms.ToTensor(), # Converting the image to tensor and change the image format (Channels-Last => Channels-First)\n",
        "      ])\n",
        "      self.set_name = set_name\n",
        "      self.data = data_list\n",
        "      self.instance_map = []\n",
        "      for i, d in enumerate(self.data):\n",
        "        for j in range(len(d['annotations'])):\n",
        "          self.instance_map.append([i,j])\n",
        "\n",
        "  '''\n",
        "  # you can change the value of length to a small number like 10 for debugging of your training procedure and overfeating\n",
        "  # make sure to use the correct length for the final training\n",
        "  '''\n",
        "  def __len__(self):\n",
        "      return len(self.instance_map)\n",
        "\n",
        "  def numpy_to_tensor(self, img, mask):\n",
        "    if self.transforms is not None:\n",
        "        img = self.transforms(img)\n",
        "    img = torch.tensor(img, dtype=torch.float)\n",
        "    mask = torch.tensor(mask, dtype=torch.float)\n",
        "    return img, mask\n",
        "\n",
        "  '''\n",
        "  # Complete this part by using get_instance_sample function\n",
        "  # make sure to resize the img and mask to a fixed size (for example 128*128)\n",
        "  # you can use \"interpolate\" function of pytorch or \"numpy.resize\"\n",
        "  # TODO: 5 lines\n",
        "  '''\n",
        "  def __getitem__(self, idx):\n",
        "    if torch.is_tensor(idx):\n",
        "        idx = idx.tolist()\n",
        "    idx = self.instance_map[idx]\n",
        "    data = self.data[idx[0]]\n",
        " \n",
        "    image, mask = get_instance_sample(data, idx[1])\n",
        "    # print(type(image))\n",
        "\n",
        "    img, mask = self.numpy_to_tensor(image, mask)\n",
        "    img = img.reshape((3, 128, 128))\n",
        "    mask = mask.reshape((1, 128, 128))\n",
        "\n",
        "    return img, mask\n",
        "\n",
        "def get_plane_dataset(set_name='train', batch_size=2):\n",
        "    my_data_list = DatasetCatalog.get(\"plane_{}\".format(set_name))\n",
        "    dataset = PlaneDataset(set_name, my_data_list)\n",
        "    loader = DataLoader(dataset, batch_size=batch_size, num_workers=4,\n",
        "                                              pin_memory=True, shuffle=True)\n",
        "    return loader, dataset"
      ],
      "execution_count": null,
      "outputs": []
    },
    {
      "cell_type": "markdown",
      "metadata": {
        "id": "m6eH3NKaQQfc"
      },
      "source": [
        "### Network"
      ]
    },
    {
      "cell_type": "code",
      "metadata": {
        "id": "PeqR3s3dSBPN"
      },
      "source": [
        "'''\n",
        "# convolution module as a template layer consists of conv2d layer, batch normalization, and relu activation\n",
        "'''\n",
        "class conv(nn.Module):\n",
        "    def __init__(self, in_ch, out_ch, activation=True):\n",
        "        super(conv, self).__init__()\n",
        "        if(activation):\n",
        "          self.layer = nn.Sequential(\n",
        "             nn.Conv2d(in_ch, out_ch, 3, padding=1),\n",
        "             nn.BatchNorm2d(out_ch),\n",
        "             nn.ReLU(inplace=True)\n",
        "          )\n",
        "        else:\n",
        "          self.layer = nn.Sequential(\n",
        "             nn.Conv2d(in_ch, out_ch, 3, padding=1)  \n",
        "             )\n",
        "\n",
        "    def forward(self, x):\n",
        "        x = self.layer(x)\n",
        "        return x\n",
        "\n",
        "'''\n",
        "# downsampling module equal to a conv module followed by a max-pool layer\n",
        "'''\n",
        "class down(nn.Module):\n",
        "    def __init__(self, in_ch, out_ch):\n",
        "        super(down, self).__init__()\n",
        "        self.layer = nn.Sequential(\n",
        "            conv(in_ch, out_ch),\n",
        "            nn.MaxPool2d(2)\n",
        "            )\n",
        "\n",
        "    def forward(self, x):\n",
        "        x = self.layer(x)\n",
        "        return x\n",
        "\n",
        "'''\n",
        "# upsampling module equal to a upsample function followed by a conv module\n",
        "'''\n",
        "class up(nn.Module):\n",
        "    def __init__(self, in_ch, out_ch, bilinear=False):\n",
        "        super(up, self).__init__()\n",
        "        if bilinear:\n",
        "            self.up = nn.Upsample(scale_factor=2, mode='bilinear', align_corners=True)\n",
        "        else:\n",
        "            self.up = nn.ConvTranspose2d(in_ch, in_ch, 2, stride=2)\n",
        "\n",
        "        self.conv = conv(in_ch, out_ch)\n",
        "\n",
        "    def forward(self, x):\n",
        "        y = self.up(x)\n",
        "        y = self.conv(y)\n",
        "        return y\n",
        "\n",
        "'''\n",
        "# the main model which you need to complete by using above modules.\n",
        "# you can also modify the above modules in order to improve your results.\n",
        "'''\n",
        "class MyModel(nn.Module):\n",
        "    def __init__(self):\n",
        "        super(MyModel, self).__init__()\n",
        "        \n",
        "        # Encoder\n",
        "      \n",
        "        self.input_conv = conv(3, 4)\n",
        "        self.down1 = down(4, 16)\n",
        "        self.down2 = down(16, 32)\n",
        "        self.down3 = down(32, 64)\n",
        "        self.down4 = down(64, 128)\n",
        "        self.down5 = down(128, 256)\n",
        "        self.down6 = down(256, 512)\n",
        "        \n",
        "        # Decoder\n",
        "        \n",
        "        self.up1 = up(512, 256)\n",
        "        self.up2 = up(256, 128)\n",
        "        self.up3 = up(128, 64)\n",
        "        self.up4 = up(64, 32)\n",
        "        self.up5 = up(32, 16)\n",
        "        self.up6 = up(16, 4)\n",
        "\n",
        "        self.output_conv = conv(4, 1, False) # ReLu activation is removed to keep the logits for the loss function\n",
        "        \n",
        "\n",
        "    def forward(self, input):\n",
        "      y = self.input_conv(input)\n",
        "      y = self.down1(y)\n",
        "      y = self.down2(y)\n",
        "      y = self.down3(y)\n",
        "      y = self.down4(y)\n",
        "      y = self.down5(y)\n",
        "      y = self.down6(y)\n",
        "      y = self.up1(y)\n",
        "      y = self.up2(y)\n",
        "      y = self.up3(y)\n",
        "      y = self.up4(y)\n",
        "      y = self.up5(y)\n",
        "      y = self.up6(y)\n",
        "\n",
        "      output = self.output_conv(y)\n",
        "      return output\n",
        "       "
      ],
      "execution_count": null,
      "outputs": []
    },
    {
      "cell_type": "markdown",
      "metadata": {
        "id": "rQj86vD9QT_Z"
      },
      "source": [
        "### Training"
      ]
    },
    {
      "cell_type": "code",
      "metadata": {
        "id": "MaZuO4SKSBuF"
      },
      "source": [
        "\n",
        "'''\n",
        "# The following is a basic training procedure to train the network\n",
        "# You need to update the code to get the best performance\n",
        "# TODO: approx ? lines\n",
        "'''\n",
        "\n",
        "# Set the hyperparameters\n",
        "num_epochs = 50\n",
        "batch_size = 4\n",
        "learning_rate = 0.001\n",
        "weight_decay = 1e-5\n",
        "\n",
        "model = MyModel() # initialize the model\n",
        "model = model.cuda() # move the model to GPU\n",
        "loader, _ = get_plane_dataset('train', batch_size) # initialize data_loader\n",
        "crit = nn.BCEWithLogitsLoss() # Define the loss function\n",
        "optim = torch.optim.SGD(model.parameters(), lr=learning_rate, weight_decay=weight_decay) # Initialize the optimizer as SGD\n",
        "\n",
        "# start the training procedure\n",
        "for epoch in range(num_epochs):\n",
        "  total_loss = 0\n",
        "  for (img, mask) in tqdm(loader):\n",
        "    img = torch.tensor(img, device=torch.device('cuda'), requires_grad = True)\n",
        "    mask = torch.tensor(mask, device=torch.device('cuda'), requires_grad = True)\n",
        "    pred = model(img)\n",
        "    loss = crit(pred, mask)\n",
        "    optim.zero_grad()\n",
        "    loss.backward()\n",
        "    optim.step()\n",
        "    total_loss += loss.cpu().data\n",
        "  print(\"Epoch: {}, Loss: {}\".format(epoch, total_loss/len(loader)))\n",
        "  torch.save(model.state_dict(), '{}/output/{}_segmentation_model.pth'.format(BASE_DIR, epoch))\n",
        "\n",
        "'''\n",
        "# Saving the final model\n",
        "'''\n",
        "torch.save(model.state_dict(), '{}/output/final_segmentation_model.pth'.format(BASE_DIR))\n"
      ],
      "execution_count": null,
      "outputs": []
    },
    {
      "cell_type": "markdown",
      "metadata": {
        "id": "0dyez1fyQYw7"
      },
      "source": [
        "### Evaluation and Visualization"
      ]
    },
    {
      "cell_type": "code",
      "metadata": {
        "id": "TDeViryUSCL2"
      },
      "source": [
        "'''\n",
        "# Before starting the evaluation, you need to set the model mode to eval\n",
        "# You may load the trained model again, in case if you want to continue your code later\n",
        "# TODO: approx 15 lines\n",
        "'''\n",
        "batch_size = 8\n",
        "model = MyModel().cuda()\n",
        "model.load_state_dict(torch.load('{}/output/final_segmentation_model.pth'.format(BASE_DIR)))\n",
        "model = model.eval() # chaning the model to evaluation mode will fix the bachnorm layers\n",
        "loader, dataset = get_plane_dataset('train', batch_size)\n",
        "\n",
        "total_iou = 0\n",
        "temp = 0\n",
        "for (img, mask) in tqdm(loader):\n",
        "  with torch.no_grad():\n",
        "    img = img.cuda()\n",
        "    mask = mask.cpu().detach()\n",
        "    mask = torch.unsqueeze(mask, 1)\n",
        "    pred = model(img).cpu().detach()\n",
        "\n",
        "    '''\n",
        "    ## Complete the code by obtaining the IoU for each img and print the final Mean IoU\n",
        "    '''\n",
        "\n",
        "    for i in range(img.shape[0]):\n",
        "      temp = temp+1\n",
        "      true_img = np.rint(np.array(nn.Sigmoid()(pred[i])[0])) \n",
        "\n",
        "      true_mask = np.rint(np.array(nn.Sigmoid()(mask[i])[0]))\n",
        "      \n",
        "      intersection = np.sum(np.logical_and(true_mask, true_img))\n",
        "      union = np.sum(np.logical_or(true_mask, true_img))\n",
        "      iou = intersection/union\n",
        "\n",
        "      total_iou = total_iou + iou \n",
        "\n",
        "print(\"\\n #images: {}, Mean IoU: {}\".format(temp, total_iou/temp))\n",
        "\n"
      ],
      "execution_count": null,
      "outputs": []
    },
    {
      "cell_type": "code",
      "metadata": {
        "id": "jbmTj9JICiKz"
      },
      "source": [
        "'''\n",
        "# Visualize 3 sample outputs\n",
        "# TODO: approx 5 lines\n",
        "'''\n",
        "\n",
        "# reference from above given function\n",
        "batch_size = 3 \n",
        "loader, dataset = get_plane_dataset('train', batch_size)\n",
        "\n",
        "img, mask = next(iter(loader))\n",
        "with torch.no_grad():\n",
        "  img = img.cuda()\n",
        "  mask = mask.cpu().detach()\n",
        "  # mask = torch.unsqueeze(mask, 1)\n",
        "  pred = model(img).cpu().detach()\n",
        "  for i in range(batch_size):\n",
        "    pred_i = pred[i]\n",
        "    mask_i = mask[i]\n",
        "    img_i = img[i]\n",
        "    transform_img = transforms.ToPILImage()(img_i.cpu())\n",
        "    img_array = np.array(transform_img)\n",
        "    pred_array = np.rint(np.array(nn.Sigmoid()(pred_i)[0]))\n",
        "    pred_array = pred_array*255 \n",
        "    mask_array = np.array(mask_i)[0]\n",
        "    mask_array = mask_array*255\n",
        "    cv2_imshow(img_array)\n",
        "    cv2_imshow(pred_array)\n",
        "    cv2_imshow(mask_array)"
      ],
      "execution_count": null,
      "outputs": []
    },
    {
      "cell_type": "markdown",
      "metadata": {
        "id": "navoiGdrqaZT"
      },
      "source": [
        "## Part 3: Instance Segmentation\n",
        "\n",
        "In this part, you need to obtain the instance segmentation results for the test data by using the trained segmentation model in the previous part and the detection model in Part 1."
      ]
    },
    {
      "cell_type": "markdown",
      "metadata": {
        "id": "vBwk33DGBowP"
      },
      "source": [
        "### Get Prediction"
      ]
    },
    {
      "cell_type": "code",
      "metadata": {
        "id": "CqaCs8tw6WPb"
      },
      "source": [
        "'''\n",
        "# Define a new function to obtain the prediction mask by passing a sample data\n",
        "# For this part, you need to use all the previous parts (predictor, get_instance_sample, data preprocessings, etc)\n",
        "# It is better to keep everything (as well as the output of this funcion) on gpu as tensors to speed up the operations.\n",
        "# pred_mask is the instance segmentation result and should have different values for different planes.\n",
        "# TODO: approx 35 lines\n",
        "'''\n",
        "\n",
        "def bbox_calc(bbox, check):\n",
        "  if check == True:\n",
        "    x_1, y_1, x_2, y_2 = bbox[0], bbox[1], bbox[0]+bbox[2], bbox[1]+bbox[3]\n",
        "  else:\n",
        "    x_1, y_1, x_2, y_2 = bbox[0], bbox[1], bbox[2], bbox[3]\n",
        "\n",
        "  x_1, y_1, x_2, y_2 = int(x_1), int(y_1), int(x_2), int(y_2) \n",
        "  return x_1, y_1, x_2, y_2\n",
        "\n",
        "def get_prediction_mask(data):\n",
        "  filename = data['file_name']\n",
        "  image = cv2.imread(filename)\n",
        "  annotations = data['annotations']\n",
        "\n",
        "  gt_mask, pred_mask= np.zeros([data['height'], data['width']]), np.zeros([data['height'], data['width']])\n",
        "\n",
        "  size = False\n",
        "  if len(annotations) == 0:\n",
        "    size = True\n",
        "\n",
        "  if size:\n",
        "    calc = predictor(image)['instances']\n",
        "    calc_size = len(calc)\n",
        "    for idx in range(calc_size):\n",
        "      bbox = np.floor(list(calc[idx]._fields['pred_boxes'])[0].cpu().numpy())\n",
        "      bbox = np.array(bbox, dtype=uint32)\n",
        "      check = False\n",
        "      \n",
        "      x_1, y_1, x_2, y_2 = bbox_calc(bbox, check)\n",
        "\n",
        "      img = image[y_1:y_2, x_1:x_2]\n",
        "      img = cv2.resize(img, (128, 128), interpolation=cv2.INTER_AREA)\n",
        "      img = torch.tensor(transforms.ToTensor()(img), device = torch.device('cuda'))\n",
        "      img = model(torch.unsqueeze(img, 0))\n",
        "      img = img.cpu().detach().numpy()[0]\n",
        "      sub_x = x_2-x_1\n",
        "      sub_y = y_2-y_1\n",
        "      #resizing to original\n",
        "      new_img = cv2.resize(img[0], (sub_x, sub_y), interpolation = cv2.INTER_AREA)\n",
        "      new_img = np.rint(np.array(1/(1 + np.exp(-new_img))))\n",
        "      new_img = new_img*(1+idx)\n",
        "\n",
        "      mask = pred_mask[y_1:y_2, x_1:x_2]\n",
        "      mask[mask == 0] = 100\n",
        "      #for overlapping planes\n",
        "      olp = np.minimum(mask, new_img)\n",
        "      olp[olp == 10] = 0\n",
        "      pred_mask[y_1:y_2, x_1:x_2] = olp\n",
        "  else:\n",
        "    for idx, v in enumerate(annotations):\n",
        "      bbox = v['bbox']\n",
        "      check = True\n",
        "      \n",
        "      x_1, y_1, x_2, y_2 = bbox_calc(bbox, check)\n",
        "\n",
        "      img = image[y_1:y_2, x_1:x_2]\n",
        "      img = cv2.resize(img, (128, 128), interpolation=cv2.INTER_AREA)\n",
        "      img = torch.tensor(transforms.ToTensor()(img), device = torch.device('cuda'))\n",
        "      img = model(torch.unsqueeze(img, 0))\n",
        "      img = img.cpu().detach().numpy()[0]\n",
        "      sub_x = x_2-x_1\n",
        "      sub_y = y_2-y_1\n",
        "      #resizing to original\n",
        "      new_img = cv2.resize(img[0], (sub_x, sub_y), interpolation = cv2.INTER_AREA)\n",
        "      new_img = np.rint(np.array(1/(1 + np.exp(-new_img))))\n",
        "      new_img = new_img*(1+idx)\n",
        "\n",
        "      mask = pred_mask[y_1:y_2, x_1:x_2]\n",
        "      mask[mask == 0] = 100\n",
        "      #for overlapping planes\n",
        "      olp = np.minimum(mask, new_img)\n",
        "      olp[olp == 10] = 0\n",
        "      pred_mask[y_1:y_2, x_1:x_2] = olp\n",
        "\n",
        "  for idx, v in enumerate(annotations):\n",
        "    bbox = v['bbox']\n",
        "    x_1, y_1, x_2, y_2 = bbox[0], bbox[1], bbox[0]+bbox[2], bbox[1]+bbox[3]\n",
        "    x_1, y_1, x_2, y_2 = int(x_1), int(y_1), int(x_2), int(y_2)\n",
        "\n",
        "    segmentations = v['segmentation']\n",
        "    new_mask = detectron2.utils.visualizer.GenericMask(segmentations, data['height'], data['width']).mask\n",
        "    mask1 = gt_mask[y_1:y_2, x_1:x_2]\n",
        "    mask2 = new_mask[y_1:y_2, x_1:x_2]\n",
        "    olp = np.maximum(mask1, mask2)\n",
        "    olp = olp*(1+idx)\n",
        "    gt_mask[y_1:y_2, x_1:x_2] = olp\n",
        "\n",
        "  gt_mask = torch.tensor(gt_mask, device = torch.device('cuda'))\n",
        "  pred_mask = torch.tensor(pred_mask, device = torch.device('cuda'))\n",
        "\n",
        "  return image, gt_mask, pred_mask #gt_mask could be all zero when the ground truth is not given.\n",
        "\n"
      ],
      "execution_count": null,
      "outputs": []
    },
    {
      "cell_type": "markdown",
      "metadata": {
        "id": "fc7TSK6EBi9u"
      },
      "source": [
        "### Visualization and Submission"
      ]
    },
    {
      "cell_type": "code",
      "metadata": {
        "id": "H7T2YX8MBiGO"
      },
      "source": [
        "\n",
        "'''\n",
        "# Visualise the output prediction as well as the GT Mask and Input image for a sample input\n",
        "# TODO: approx 10 lines\n",
        "'''\n",
        "\n",
        "train_set = get_detection_data('train')\n",
        "for i in np.random.randint(0, 190, 3):\n",
        "  img, gt_mask, pred_mask = get_prediction_mask(train_set[i])\n",
        "  \n",
        "  pred_mask = pred_mask.cpu().numpy()\n",
        "  gt_mask = gt_mask.cpu().numpy()\n",
        "\n",
        "  value_pred = 255./(pred_mask.max())\n",
        "  pred_mask = pred_mask*value_pred\n",
        " \n",
        "  value_gt = 255./(gt_mask.max())\n",
        "  gt_mask = gt_mask*value_gt\n",
        "\n",
        "  cv2_imshow(cv2.resize(img, (img.shape[1], img.shape[0]), interpolation = cv2.INTER_AREA))\n",
        "  cv2_imshow(cv2.resize(gt_mask, (gt_mask.shape[1], gt_mask.shape[0]), interpolation = cv2.INTER_AREA))\n",
        "  cv2_imshow(cv2.resize(pred_mask, (pred_mask.shape[1], pred_mask.shape[0]), interpolation = cv2.INTER_AREA))\n"
      ],
      "execution_count": null,
      "outputs": []
    },
    {
      "cell_type": "code",
      "metadata": {
        "id": "uPo_03up-g_f"
      },
      "source": [
        "'''\n",
        "# ref: https://www.kaggle.com/rakhlin/fast-run-length-encoding-python\n",
        "# https://www.kaggle.com/c/airbus-ship-detection/overview/evaluation\n",
        "'''\n",
        "def rle_encoding(x):\n",
        "    '''\n",
        "    x: pytorch tensor on gpu, 1 - mask, 0 - background\n",
        "    Returns run length as list\n",
        "    '''\n",
        "    dots = torch.where(torch.flatten(x.long())==1)[0]\n",
        "    if(len(dots)==0):\n",
        "      return []\n",
        "    inds = torch.where(dots[1:]!=dots[:-1]+1)[0]+1\n",
        "    inds = torch.cat((torch.tensor([0], device=torch.device('cuda'), dtype=torch.long), inds))\n",
        "    tmpdots = dots[inds]\n",
        "    inds = torch.cat((inds, torch.tensor([len(dots)], device=torch.device('cuda'))))\n",
        "    inds = inds[1:] - inds[:-1]\n",
        "    runs = torch.cat((tmpdots, inds)).reshape((2,-1))\n",
        "    runs = torch.flatten(torch.transpose(runs, 0, 1)).cpu().data.numpy()\n",
        "    return ' '.join([str(i) for i in runs])"
      ],
      "execution_count": null,
      "outputs": []
    },
    {
      "cell_type": "code",
      "metadata": {
        "id": "zv0rab2LJev-"
      },
      "source": [
        "'''\n",
        "# You need to upload the csv file on kaggle\n",
        "# The speed of your code in the previous parts highly affects the running time of this part\n",
        "'''\n",
        "\n",
        "preddic = {\"ImageId\": [], \"EncodedPixels\": []}\n",
        "\n",
        "'''\n",
        "# Writing the predictions of the training set\n",
        "'''\n",
        "my_data_list = DatasetCatalog.get(\"plane_{}\".format('train'))\n",
        "for i in tqdm(range(len(my_data_list)), position=0, leave=True):\n",
        "  sample = my_data_list[i]\n",
        "  sample['image_id'] = sample['file_name'].split(\"/\")[-1][:-4]\n",
        "  img, true_mask, pred_mask = get_prediction_mask(sample)\n",
        "  inds = torch.unique(pred_mask)\n",
        "  if(len(inds)==1):\n",
        "    preddic['ImageId'].append(sample['image_id'])\n",
        "    preddic['EncodedPixels'].append([])\n",
        "  else:\n",
        "    for index in inds:\n",
        "      if(index == 0):\n",
        "        continue\n",
        "      tmp_mask = (pred_mask==index)\n",
        "      encPix = rle_encoding(tmp_mask)\n",
        "      preddic['ImageId'].append(sample['image_id'])\n",
        "      preddic['EncodedPixels'].append(encPix)\n",
        "\n",
        "'''\n",
        "# Writing the predictions of the test set\n",
        "'''\n",
        "\n",
        "my_data_list = DatasetCatalog.get(\"plane_{}\".format('test'))\n",
        "for i in tqdm(range(len(my_data_list)), position=0, leave=True):\n",
        "  sample = my_data_list[i]\n",
        "  sample['image_id'] = sample['file_name'].split(\"/\")[-1][:-4]\n",
        "  img, true_mask, pred_mask = get_prediction_mask(sample)\n",
        "  pred_mask = torch.tensor(pred_mask, device = torch.device('cuda'))\n",
        "\n",
        "  inds = torch.unique(pred_mask)\n",
        "  if(len(inds)==1):\n",
        "    preddic['ImageId'].append(sample['image_id'])\n",
        "    preddic['EncodedPixels'].append([])\n",
        "  else:\n",
        "    for j, index in enumerate(inds):\n",
        "      if(index == 0):\n",
        "        continue\n",
        "      tmp_mask = (pred_mask==index).double()\n",
        "      encPix = rle_encoding(tmp_mask)\n",
        "      preddic['ImageId'].append(sample['image_id'])\n",
        "      preddic['EncodedPixels'].append(encPix)\n",
        "\n",
        "pred_file = open(\"{}/pred.csv\".format(BASE_DIR), 'w')\n",
        "pd.DataFrame(preddic).to_csv(pred_file, index=False)\n",
        "pred_file.close()\n"
      ],
      "execution_count": null,
      "outputs": []
    },
    {
      "cell_type": "markdown",
      "metadata": {
        "id": "p7nN4SduqrpI"
      },
      "source": [
        "## Part 4: Mask R-CNN\n",
        "\n",
        "For this part you need to follow a same procedure to part 2 with the configs of Mask R-CNN, other parts are generally the same as part 2."
      ]
    },
    {
      "cell_type": "markdown",
      "metadata": {
        "id": "axWf7drKNXYd"
      },
      "source": [
        "### Data Loader"
      ]
    },
    {
      "cell_type": "code",
      "metadata": {
        "id": "yC1FDCcQN2LH"
      },
      "source": [
        "DatasetCatalog.remove(\"plane_train\")\n",
        "DatasetCatalog.remove(\"plane_test\")"
      ],
      "execution_count": null,
      "outputs": []
    },
    {
      "cell_type": "code",
      "metadata": {
        "id": "rNZLazHRA2Ji"
      },
      "source": [
        "for d in [\"train\", \"test\"]:\n",
        "  DatasetCatalog.register(\"plane_\" + d, lambda d = d: get_detection_data(d))\n",
        "  MetadataCatalog.get(\"plane_\" + d).set(thing_classes=[\"plane\"])\n",
        "plane_metadata = MetadataCatalog.get(\"plane_train\")"
      ],
      "execution_count": null,
      "outputs": []
    },
    {
      "cell_type": "markdown",
      "metadata": {
        "id": "lG5slAhQNjE7"
      },
      "source": [
        "### Network"
      ]
    },
    {
      "cell_type": "code",
      "metadata": {
        "id": "KG1pnKLMOcjS"
      },
      "source": [
        "cfg = get_cfg()\n",
        "cfg.OUTPUT_DIR = \"{}/output/\".format(BASE_DIR)\n",
        "cfg.merge_from_file(model_zoo.get_config_file(\"COCO-InstanceSegmentation/mask_rcnn_R_50_FPN_3x.yaml\"))\n",
        "cfg.DATASETS.TRAIN = (\"plane_train\",)\n",
        "cfg.DATASETS.TEST = ()\n",
        "cfg.DATALOADER.NUM_WORKERS = 2\n",
        "cfg.SOLVER.IMS_PER_BATCH = 2\n",
        "cfg.SOLVER.BASE_LR = 0.00025\n",
        "cfg.SOLVER.MAX_ITER = 600\n",
        "cfg.SOLVER.STEPS = []        \n",
        "cfg.MODEL.ROI_HEADS.BATCH_SIZE_PER_IMAGE = 512  \n",
        "cfg.MODEL.ROI_HEADS.NUM_CLASSES = 1 \n",
        "os.makedirs(cfg.OUTPUT_DIR, exist_ok = True)"
      ],
      "execution_count": null,
      "outputs": []
    },
    {
      "cell_type": "markdown",
      "metadata": {
        "id": "t7ifeV1sNvtt"
      },
      "source": [
        "### Training"
      ]
    },
    {
      "cell_type": "code",
      "metadata": {
        "id": "tc4K0Nz5OeKk"
      },
      "source": [
        "trainer = DefaultTrainer(cfg)\n",
        "trainer.resume_or_load(resume = False)\n",
        "trainer.train()"
      ],
      "execution_count": null,
      "outputs": []
    },
    {
      "cell_type": "code",
      "metadata": {
        "id": "6tgbpg1cBhYH"
      },
      "source": [
        "cfg.MODEL.WEIGHTS = os.path.join(cfg.OUTPUT_DIR, \"model_final.pth\")  # path to the model we just trained\n",
        "cfg.MODEL.ROI_HEADS.SCORE_THRESH_TEST = 0.6   # set a custom testing threshold\n",
        "predictor = DefaultPredictor(cfg)"
      ],
      "execution_count": null,
      "outputs": []
    },
    {
      "cell_type": "markdown",
      "metadata": {
        "id": "298QruFnNxyn"
      },
      "source": [
        "### Evaluation and Visualization"
      ]
    },
    {
      "cell_type": "code",
      "metadata": {
        "id": "KcGwV5-9Oetp"
      },
      "source": [
        "dataset_dicts = get_detection_data(\"test\")\n",
        "for d in random.sample(dataset_dicts, 3):    \n",
        "    im = cv2.imread(d[\"file_name\"])\n",
        "    outputs = predictor(im)  # format is documented at https://detectron2.readthedocs.io/tutorials/models.html#model-output-format\n",
        "    v = Visualizer(im[:, :, ::-1],\n",
        "                   metadata=plane_metadata, \n",
        "                   scale=0.5, \n",
        "                   instance_mode=ColorMode.IMAGE_BW   # remove the colors of unsegmented pixels. This option is only available for segmentation models\n",
        "    )\n",
        "    out = v.draw_instance_predictions(outputs[\"instances\"].to(\"cpu\"))\n",
        "    cv2_imshow(out.get_image()[:, :, ::-1])"
      ],
      "execution_count": null,
      "outputs": []
    },
    {
      "cell_type": "code",
      "metadata": {
        "id": "l_3wS2BFLLGp"
      },
      "source": [
        "evaluator = COCOEvaluator(\"plane_train\", output_dir=cfg.OUTPUT_DIR)\n",
        "train_loader = build_detection_test_loader(cfg, \"plane_train\")\n",
        "print(inference_on_dataset(predictor.model, train_loader, evaluator))"
      ],
      "execution_count": null,
      "outputs": []
    },
    {
      "cell_type": "code",
      "metadata": {
        "id": "lj9xBgiQl2si"
      },
      "source": [
        ""
      ],
      "execution_count": null,
      "outputs": []
    }
  ]
}